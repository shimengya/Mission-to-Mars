{
 "cells": [
  {
   "cell_type": "code",
   "execution_count": 1,
   "metadata": {},
   "outputs": [],
   "source": [
    "from bs4 import BeautifulSoup"
   ]
  },
  {
   "cell_type": "code",
   "execution_count": 2,
   "metadata": {},
   "outputs": [],
   "source": [
    "html = \"\"\"\n",
    "<!DOCTYPE html>\n",
    "<html lang=\"en-us\">\n",
    "\n",
    "<head>\n",
    "  <meta charset=\"UTF-8\">\n",
    "  <title>My First Page</title>\n",
    "</head>\n",
    "\n",
    "<body>\n",
    "  <!-- Header -->\n",
    "  <h1>Hello World!</h1>\n",
    "\n",
    "  <!-- Image -->\n",
    "  <img\n",
    "    src=\"https://static.wikia.nocookie.net/spongebob/images/4/46/SVG_SpongeBob_SquarePants.svg/revision/latest/scale-to-width-down/195?cb=20181117230211\"\n",
    "    alt=\"Spongebob!\" />\n",
    "  <br>\n",
    "\n",
    "  <!-- Link with New Tab -->\n",
    "  <a href=\"https://www.google.com\">Google</a>\n",
    "  <br>\n",
    "\n",
    "  <!-- An ordered list -->\n",
    "  <ol>\n",
    "    <li>Visit Grand Canyon</li>\n",
    "    <li>Hike the trails</li>\n",
    "    <li>Take photos</li>\n",
    "  </ol>\n",
    "\n",
    "  <ul>\n",
    "    <li>Bach</li>\n",
    "    <li>Mozart</li>\n",
    "    <li>Beethoven</li>\n",
    "    <li>Adele</li>\n",
    "  </ul>\n",
    "</body>\n",
    "\n",
    "</html>\n",
    "\"\"\""
   ]
  },
  {
   "cell_type": "code",
   "execution_count": 3,
   "metadata": {},
   "outputs": [],
   "source": [
    "soup = BeautifulSoup(html, 'html.parser')"
   ]
  },
  {
   "cell_type": "code",
   "execution_count": 4,
   "metadata": {},
   "outputs": [
    {
     "name": "stdout",
     "output_type": "stream",
     "text": [
      "\n",
      "<!DOCTYPE html>\n",
      "\n",
      "<html lang=\"en-us\">\n",
      "<head>\n",
      "<meta charset=\"utf-8\"/>\n",
      "<title>My First Page</title>\n",
      "</head>\n",
      "<body>\n",
      "<!-- Header -->\n",
      "<h1>Hello World!</h1>\n",
      "<!-- Image -->\n",
      "<img alt=\"Spongebob!\" src=\"https://static.wikia.nocookie.net/spongebob/images/4/46/SVG_SpongeBob_SquarePants.svg/revision/latest/scale-to-width-down/195?cb=20181117230211\"/>\n",
      "<br/>\n",
      "<!-- Link with New Tab -->\n",
      "<a href=\"https://www.google.com\">Google</a>\n",
      "<br/>\n",
      "<!-- An ordered list -->\n",
      "<ol>\n",
      "<li>Visit Grand Canyon</li>\n",
      "<li>Hike the trails</li>\n",
      "<li>Take photos</li>\n",
      "</ol>\n",
      "<ul>\n",
      "<li>Bach</li>\n",
      "<li>Mozart</li>\n",
      "<li>Beethoven</li>\n",
      "<li>Adele</li>\n",
      "</ul>\n",
      "</body>\n",
      "</html>\n",
      "\n"
     ]
    }
   ],
   "source": [
    "print(soup)"
   ]
  },
  {
   "cell_type": "code",
   "execution_count": 5,
   "metadata": {},
   "outputs": [
    {
     "data": {
      "text/plain": [
       "bs4.BeautifulSoup"
      ]
     },
     "execution_count": 5,
     "metadata": {},
     "output_type": "execute_result"
    }
   ],
   "source": [
    "type(soup)"
   ]
  },
  {
   "cell_type": "code",
   "execution_count": 6,
   "metadata": {},
   "outputs": [
    {
     "name": "stdout",
     "output_type": "stream",
     "text": [
      "<head>\n",
      "<meta charset=\"utf-8\"/>\n",
      "<title>My First Page</title>\n",
      "</head>\n"
     ]
    }
   ],
   "source": [
    "print(soup.head)"
   ]
  },
  {
   "cell_type": "code",
   "execution_count": 7,
   "metadata": {
    "scrolled": true
   },
   "outputs": [
    {
     "data": {
      "text/plain": [
       "<title>My First Page</title>"
      ]
     },
     "execution_count": 7,
     "metadata": {},
     "output_type": "execute_result"
    }
   ],
   "source": [
    "soup.title"
   ]
  },
  {
   "cell_type": "code",
   "execution_count": 8,
   "metadata": {},
   "outputs": [
    {
     "data": {
      "text/plain": [
       "'My First Page'"
      ]
     },
     "execution_count": 8,
     "metadata": {},
     "output_type": "execute_result"
    }
   ],
   "source": [
    "soup.title.text"
   ]
  },
  {
   "cell_type": "code",
   "execution_count": 9,
   "metadata": {},
   "outputs": [
    {
     "data": {
      "text/plain": [
       "<ol>\n",
       "<li>Visit Grand Canyon</li>\n",
       "<li>Hike the trails</li>\n",
       "<li>Take photos</li>\n",
       "</ol>"
      ]
     },
     "execution_count": 9,
     "metadata": {},
     "output_type": "execute_result"
    }
   ],
   "source": [
    "soup.ol"
   ]
  },
  {
   "cell_type": "code",
   "execution_count": 10,
   "metadata": {},
   "outputs": [
    {
     "data": {
      "text/plain": [
       "<li>Visit Grand Canyon</li>"
      ]
     },
     "execution_count": 10,
     "metadata": {},
     "output_type": "execute_result"
    }
   ],
   "source": [
    "soup.ol.li"
   ]
  },
  {
   "cell_type": "code",
   "execution_count": 11,
   "metadata": {},
   "outputs": [
    {
     "data": {
      "text/plain": [
       "'Visit Grand Canyon'"
      ]
     },
     "execution_count": 11,
     "metadata": {},
     "output_type": "execute_result"
    }
   ],
   "source": [
    "soup.ol.li.text"
   ]
  },
  {
   "cell_type": "code",
   "execution_count": 12,
   "metadata": {},
   "outputs": [
    {
     "data": {
      "text/plain": [
       "<img alt=\"Spongebob!\" src=\"https://static.wikia.nocookie.net/spongebob/images/4/46/SVG_SpongeBob_SquarePants.svg/revision/latest/scale-to-width-down/195?cb=20181117230211\"/>"
      ]
     },
     "execution_count": 12,
     "metadata": {},
     "output_type": "execute_result"
    }
   ],
   "source": [
    "image_html = soup.find(\"img\")\n",
    "image_html"
   ]
  },
  {
   "cell_type": "code",
   "execution_count": 13,
   "metadata": {},
   "outputs": [
    {
     "data": {
      "text/plain": [
       "'https://static.wikia.nocookie.net/spongebob/images/4/46/SVG_SpongeBob_SquarePants.svg/revision/latest/scale-to-width-down/195?cb=20181117230211'"
      ]
     },
     "execution_count": 13,
     "metadata": {},
     "output_type": "execute_result"
    }
   ],
   "source": [
    "image_html['src']"
   ]
  },
  {
   "cell_type": "code",
   "execution_count": 14,
   "metadata": {},
   "outputs": [
    {
     "data": {
      "text/plain": [
       "'Spongebob!'"
      ]
     },
     "execution_count": 14,
     "metadata": {},
     "output_type": "execute_result"
    }
   ],
   "source": [
    "image_html['alt']"
   ]
  },
  {
   "cell_type": "code",
   "execution_count": null,
   "metadata": {},
   "outputs": [],
   "source": []
  }
 ],
 "metadata": {
  "kernelspec": {
   "display_name": "PythonData",
   "language": "python",
   "name": "pythondata"
  },
  "language_info": {
   "codemirror_mode": {
    "name": "ipython",
    "version": 3
   },
   "file_extension": ".py",
   "mimetype": "text/x-python",
   "name": "python",
   "nbconvert_exporter": "python",
   "pygments_lexer": "ipython3",
   "version": "3.9.12"
  }
 },
 "nbformat": 4,
 "nbformat_minor": 4
}
